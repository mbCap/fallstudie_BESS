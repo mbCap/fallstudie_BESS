{
  "nbformat": 4,
  "nbformat_minor": 0,
  "metadata": {
    "colab": {
      "provenance": [],
      "include_colab_link": true
    },
    "kernelspec": {
      "name": "python3",
      "display_name": "Python 3"
    },
    "language_info": {
      "name": "python"
    }
  },
  "cells": [
    {
      "cell_type": "markdown",
      "metadata": {
        "id": "view-in-github",
        "colab_type": "text"
      },
      "source": [
        "<a href=\"https://colab.research.google.com/github/mbCap/fallstudie_BESS/blob/main/Fallstudie.ipynb\" target=\"_parent\"><img src=\"https://colab.research.google.com/assets/colab-badge.svg\" alt=\"Open In Colab\"/></a>"
      ]
    },
    {
      "cell_type": "markdown",
      "metadata": {
        "id": "b2fc884d"
      },
      "source": [
        "# Master Planning"
      ]
    },
    {
      "cell_type": "code",
      "execution_count": 74,
      "metadata": {
        "id": "cdb29647",
        "colab": {
          "base_uri": "https://localhost:8080/"
        },
        "outputId": "6bdc0fc9-e60c-45c7-e440-d09c3edf87cf"
      },
      "outputs": [
        {
          "output_type": "stream",
          "name": "stdout",
          "text": [
            "fatal: destination path 'WS24_Supply_Chain_Optimierung' already exists and is not an empty directory.\n"
          ]
        }
      ],
      "source": [
        "! git clone https://github.com/AlexKressner/WS24_Supply_Chain_Optimierung"
      ]
    },
    {
      "cell_type": "code",
      "execution_count": 75,
      "metadata": {
        "id": "d8c0c7cc"
      },
      "outputs": [],
      "source": [
        "! pip install -q pyscipopt"
      ]
    },
    {
      "cell_type": "code",
      "source": [
        "import pandas as pd\n",
        "from pyscipopt import Model, quicksum"
      ],
      "metadata": {
        "id": "7MzXHG4B86Qx"
      },
      "execution_count": 76,
      "outputs": []
    },
    {
      "cell_type": "markdown",
      "source": [
        "## Daten laden"
      ],
      "metadata": {
        "id": "3Ci5xdy04596"
      }
    },
    {
      "cell_type": "code",
      "source": [
        "folder = \"WS24_Supply_Chain_Optimierung/Daten/Fallstudie/\""
      ],
      "metadata": {
        "id": "umWfTGv849zx"
      },
      "execution_count": 77,
      "outputs": []
    },
    {
      "cell_type": "code",
      "source": [
        "path = pd.read_excel(f\"{folder}/Preisprognosen.xlsx\",)"
      ],
      "metadata": {
        "id": "Owcp72kk0hDl"
      },
      "execution_count": 78,
      "outputs": []
    },
    {
      "cell_type": "markdown",
      "metadata": {
        "id": "798a67ee"
      },
      "source": [
        "## Indexmengen"
      ]
    },
    {
      "cell_type": "code",
      "source": [
        "T = path[\"Stunde\"].tolist()  # Stunden des Folgetages aus den Daten"
      ],
      "metadata": {
        "id": "goOwHnFj_ofs"
      },
      "execution_count": 79,
      "outputs": []
    },
    {
      "cell_type": "code",
      "execution_count": 80,
      "metadata": {
        "id": "f9e0fd6f"
      },
      "outputs": [],
      "source": [
        "D = [\"buy\", \"sell\"]  # Entscheidungen: Kauf und Verkauf"
      ]
    },
    {
      "cell_type": "markdown",
      "source": [],
      "metadata": {
        "id": "eONeXkJtuVET"
      }
    },
    {
      "cell_type": "markdown",
      "source": [
        "Wahrscheinlichkeiten"
      ],
      "metadata": {
        "id": "F5IRfXwlCukQ"
      }
    },
    {
      "cell_type": "code",
      "source": [
        "# Wahrscheinlichkeiten aus der Excel-Datei extrahieren\n",
        "P_prob = path['Wahrscheinlichkeit'].tolist()\n",
        "\n",
        "# Überprüfen, ob die Anzahl der Wahrscheinlichkeiten und Stunden übereinstimmt\n",
        "assert len(P_prob) == len(T), \"Die Anzahl der Stunden und Wahrscheinlichkeiten muss übereinstimmen\""
      ],
      "metadata": {
        "id": "UFkL8TvkCwi_"
      },
      "execution_count": 81,
      "outputs": []
    },
    {
      "cell_type": "markdown",
      "source": [
        "## Optimierungsmodell"
      ],
      "metadata": {
        "id": "Q8f5UhN-A8UV"
      }
    },
    {
      "cell_type": "code",
      "source": [
        "scip = Model(\"BESS_Optimization\")"
      ],
      "metadata": {
        "id": "gIH-zc22A9tA"
      },
      "execution_count": 82,
      "outputs": []
    },
    {
      "cell_type": "markdown",
      "metadata": {
        "id": "b99b4ca0"
      },
      "source": [
        "## Parameter"
      ]
    },
    {
      "cell_type": "code",
      "source": [
        "C_nom = 40  # Nominelle Speicherkapazität (MWh)"
      ],
      "metadata": {
        "id": "LnaXtWEACWoU"
      },
      "execution_count": 83,
      "outputs": []
    },
    {
      "cell_type": "code",
      "source": [
        "DoD = 0.8  # Depth of Discharge"
      ],
      "metadata": {
        "id": "-k__H4DlP84P"
      },
      "execution_count": 84,
      "outputs": []
    },
    {
      "cell_type": "code",
      "source": [
        "SOC_min = (1 - DoD) * C_nom  # Minimaler Ladezustand (MWh)"
      ],
      "metadata": {
        "id": "YlWu7CMzDvfn"
      },
      "execution_count": 85,
      "outputs": []
    },
    {
      "cell_type": "code",
      "source": [
        "SOC_max = C_nom  # Maximaler Ladezustand (MWh)"
      ],
      "metadata": {
        "id": "QYV_zhQtS-Td"
      },
      "execution_count": 86,
      "outputs": []
    },
    {
      "cell_type": "code",
      "source": [
        "C_rate = 0.5 * C_nom  # Maximale Lade-/Entladeleistung (MWh/h)"
      ],
      "metadata": {
        "id": "QvTVt7VaD1fC"
      },
      "execution_count": 87,
      "outputs": []
    },
    {
      "cell_type": "code",
      "source": [
        "eta_RT = 0.95  # Round-Trip-Effizienz"
      ],
      "metadata": {
        "id": "QEISqxapofvx"
      },
      "execution_count": 88,
      "outputs": []
    },
    {
      "cell_type": "code",
      "source": [
        "eta_inv = 0.985  # Wechselrichter-Wirkungsgrad"
      ],
      "metadata": {
        "id": "ejN0ixdyEQCw"
      },
      "execution_count": 89,
      "outputs": []
    },
    {
      "cell_type": "code",
      "source": [
        "Z_max = 2  # Maximale Anzahl von Vollzyklen"
      ],
      "metadata": {
        "id": "EEjZW6nOuoyr"
      },
      "execution_count": 90,
      "outputs": []
    },
    {
      "cell_type": "code",
      "source": [
        "C_cycle = 1500  # Kosten pro Speicherzyklus (€)"
      ],
      "metadata": {
        "id": "06oHuewFuojg"
      },
      "execution_count": 91,
      "outputs": []
    },
    {
      "cell_type": "code",
      "source": [
        "P_min = -500  # Minimaler Gebotspreis (€/MWh)"
      ],
      "metadata": {
        "id": "TO-ip6gDurOl"
      },
      "execution_count": 92,
      "outputs": []
    },
    {
      "cell_type": "code",
      "source": [
        "P_max = 4000  # Maximaler Gebotspreis (€/MWh)"
      ],
      "metadata": {
        "id": "u7WMzLxIurlQ"
      },
      "execution_count": 93,
      "outputs": []
    },
    {
      "cell_type": "markdown",
      "source": [
        "Entscheidungsvariablen"
      ],
      "metadata": {
        "id": "kVNeGGmN4ZHF"
      }
    },
    {
      "cell_type": "code",
      "source": [
        "Q = {(t, d): scip.addVar(lb=0, name=f\"Q_{t}_{d}\") for t in T for d in D}  # Gebotsmengen (MWh)"
      ],
      "metadata": {
        "id": "bc_bKV764az1"
      },
      "execution_count": 94,
      "outputs": []
    },
    {
      "cell_type": "code",
      "source": [
        "P = {(t, d): scip.addVar(lb=P_min, ub=P_max, name=f\"P_{t}_{d}\") for t in T for d in D}  # Gebotspreise (€/MWh)"
      ],
      "metadata": {
        "id": "8laFvpSN4cNa"
      },
      "execution_count": 95,
      "outputs": []
    },
    {
      "cell_type": "code",
      "source": [
        "SOC = {t: scip.addVar(lb=SOC_min, ub=SOC_max, name=f\"SOC_{t}\") for t in T}  # Ladezustand (MWh)"
      ],
      "metadata": {
        "id": "R9NiE38Y4eX8"
      },
      "execution_count": 96,
      "outputs": []
    },
    {
      "cell_type": "code",
      "source": [
        "Z = {t: scip.addVar(vtype=\"B\", name=f\"Z_{t}\") for t in T}  # Speicherzyklen-Binärvariable"
      ],
      "metadata": {
        "id": "BXddF3Dp4f2V"
      },
      "execution_count": 97,
      "outputs": []
    },
    {
      "cell_type": "code",
      "source": [
        "# Neue Variablen X für Produkte von P[t,d] und Q[t,d]\n",
        "X = {(t, d): scip.addVar(lb=0, name=f\"X_{t}_{d}\") for t in T for d in D}"
      ],
      "metadata": {
        "id": "OD1uz_HVDYRU"
      },
      "execution_count": 98,
      "outputs": []
    },
    {
      "cell_type": "markdown",
      "metadata": {
        "id": "c9eede10"
      },
      "source": [
        "## Zielfunktion"
      ]
    },
    {
      "cell_type": "markdown",
      "source": [
        "$\\max \\sum_{t \\in T} \\sum_{d \\in D} \\left( P_{t,d} \\cdot Q_{t,d} \\cdot \\mathbb{P}(P_{\\text{market}} = P_{t,d}) \\right) - \\sum_{t \\in T} C_{\\text{cycle}} \\cdot Z_t$"
      ],
      "metadata": {
        "id": "YA6mMf2p_y50"
      }
    },
    {
      "cell_type": "code",
      "source": [
        "# Zielfunktion mit den neuen Variablen X\n",
        "scip.setObjective(\n",
        "    sum(P_prob[t] * X[t, d] for t in T for d in D) - sum(C_cycle * Z[t] for t in T),\n",
        "    \"maximize\"\n",
        ")"
      ],
      "metadata": {
        "id": "hXgM2rbYcVtU"
      },
      "execution_count": 99,
      "outputs": []
    },
    {
      "cell_type": "markdown",
      "metadata": {
        "id": "a8534816"
      },
      "source": [
        "## Nebenbedingungen"
      ]
    },
    {
      "cell_type": "markdown",
      "source": [
        "Ladezustandsdynamik"
      ],
      "metadata": {
        "id": "rsGHTnQtv3sY"
      }
    },
    {
      "cell_type": "code",
      "source": [
        "for t in T:\n",
        "    if t == T[0]:\n",
        "        scip.addCons(SOC[t] == SOC_min)  # Initialer Ladezustand\n",
        "    else:\n",
        "        scip.addCons(\n",
        "            SOC[t] == SOC[T[T.index(t)-1]] + eta_inv * Q[t, \"buy\"] - (1 / (eta_RT * eta_inv)) * Q[t, \"sell\"]\n",
        "        )"
      ],
      "metadata": {
        "id": "768NqIuRcYzW"
      },
      "execution_count": 100,
      "outputs": []
    },
    {
      "cell_type": "markdown",
      "source": [
        "Leistungsbeschränkung"
      ],
      "metadata": {
        "id": "TYYOQIjvwNgG"
      }
    },
    {
      "cell_type": "code",
      "source": [
        "for t in T:\n",
        "    scip.addCons(Q[t, \"buy\"] <= C_rate)\n",
        "    scip.addCons(Q[t, \"sell\"] <= C_rate)"
      ],
      "metadata": {
        "id": "YVMZl3fNwPbC"
      },
      "execution_count": 101,
      "outputs": []
    },
    {
      "cell_type": "markdown",
      "source": [
        "Kapazitätsbeschränkung"
      ],
      "metadata": {
        "id": "Ok1p-exxwTjI"
      }
    },
    {
      "cell_type": "code",
      "source": [
        "for t in T:\n",
        "    scip.addCons(SOC[t] + Q[t, \"buy\"] <= SOC_max)\n",
        "    scip.addCons(SOC[t] - Q[t, \"sell\"] >= SOC_min)"
      ],
      "metadata": {
        "id": "V-5jxhFjwWL5"
      },
      "execution_count": 102,
      "outputs": []
    },
    {
      "cell_type": "markdown",
      "source": [
        "Max Anzahl Zyklen"
      ],
      "metadata": {
        "id": "rc8hTCpZweY0"
      }
    },
    {
      "cell_type": "code",
      "source": [
        "scip.addCons(sum(Z[t] for t in T) <= Z_max)"
      ],
      "metadata": {
        "id": "ToZU1AqNwfx7",
        "colab": {
          "base_uri": "https://localhost:8080/"
        },
        "outputId": "d8977ad6-af1e-4633-c225-63e4e4482616"
      },
      "execution_count": 103,
      "outputs": [
        {
          "output_type": "execute_result",
          "data": {
            "text/plain": [
              "c3001"
            ]
          },
          "metadata": {},
          "execution_count": 103
        }
      ]
    },
    {
      "cell_type": "markdown",
      "source": [
        "Def der Zyklen"
      ],
      "metadata": {
        "id": "tsq6P5gxwht9"
      }
    },
    {
      "cell_type": "code",
      "source": [
        "for t in T:\n",
        "    scip.addCons(Z[t] >= (Q[t, \"buy\"] + Q[t, \"sell\"]) / C_nom)  # Zyklenbeginn"
      ],
      "metadata": {
        "id": "_osS9ji_wiz2"
      },
      "execution_count": 104,
      "outputs": []
    },
    {
      "cell_type": "markdown",
      "metadata": {
        "id": "9a459618"
      },
      "source": [
        "## Berechnung Lösung"
      ]
    },
    {
      "cell_type": "markdown",
      "source": [],
      "metadata": {
        "id": "ObM6S4-Nv5Kr"
      }
    },
    {
      "cell_type": "code",
      "source": [
        "scip.optimize()"
      ],
      "metadata": {
        "id": "tf9LRvMDCprP"
      },
      "execution_count": 105,
      "outputs": []
    },
    {
      "cell_type": "code",
      "execution_count": 106,
      "metadata": {
        "id": "4d84da39",
        "colab": {
          "base_uri": "https://localhost:8080/"
        },
        "outputId": "9436c878-7ae5-4e5b-dfb5-c7acd8d52396"
      },
      "outputs": [
        {
          "output_type": "stream",
          "name": "stdout",
          "text": [
            "\n",
            "Ergebnisse:\n",
            "Keine optimale Lösung gefunden.\n"
          ]
        }
      ],
      "source": [
        "print(\"\\nErgebnisse:\")\n",
        "if scip.getStatus() == \"optimal\":\n",
        "    print(f\"Maximierter Gewinn: {scip.getObjVal():.2f} €\")\n",
        "    print(\"\\nGebote und Ladezustand pro Stunde:\")\n",
        "    for t in T:\n",
        "        print(f\"Stunde {t}: Buy {scip.getVal(Q[t, 'buy']):.2f} MWh, \"\n",
        "              f\"Sell {scip.getVal(Q[t, 'sell']):.2f} MWh, \"\n",
        "              f\"SOC: {scip.getVal(SOC[t]):.2f} MWh\")\n",
        "else:\n",
        "    print(\"Keine optimale Lösung gefunden.\")"
      ]
    }
  ]
}